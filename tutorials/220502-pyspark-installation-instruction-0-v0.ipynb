{
 "cells": [
  {
   "cell_type": "markdown",
   "id": "4da74d60",
   "metadata": {},
   "source": [
    "# Installation Instruction"
   ]
  },
  {
   "cell_type": "markdown",
   "id": "67d3db1e",
   "metadata": {},
   "source": [
    "In this notebook, I will help you install pyspark for Macs step by step.\n"
   ]
  },
  {
   "cell_type": "markdown",
   "id": "ecbb7d34",
   "metadata": {},
   "source": [
    "**1. Install Homebrew**"
   ]
  },
  {
   "cell_type": "code",
   "execution_count": 2,
   "id": "ebfbe283",
   "metadata": {},
   "outputs": [
    {
     "name": "stdout",
     "output_type": "stream",
     "text": [
      "\u001b[1;34m==>\u001b[1;39m Checking for `sudo` access (which may request your password)...\u001b[0m\n",
      "Password:\n",
      "sudo: a password is required\n",
      "Need sudo access on macOS (e.g. the user nguyens needs to be an Administrator)!\n"
     ]
    }
   ],
   "source": [
    "# open your terminal and run the following command to install homebrew\n",
    "!/bin/bash -c \"$(curl -fsSL https://raw.githubusercontent.com/Homebrew/install/HEAD/install.sh)\""
   ]
  },
  {
   "cell_type": "markdown",
   "id": "ff0b7a0c",
   "metadata": {},
   "source": [
    "**2. Install x-code**"
   ]
  },
  {
   "cell_type": "code",
   "execution_count": null,
   "id": "cfa541db",
   "metadata": {},
   "outputs": [],
   "source": [
    "# continue with terminal\n",
    "xcode-select --install # or you can google download and install from website"
   ]
  },
  {
   "cell_type": "markdown",
   "id": "65c92947",
   "metadata": {},
   "source": [
    "**3. Install java8**"
   ]
  },
  {
   "cell_type": "markdown",
   "id": "c43f1d94",
   "metadata": {},
   "source": [
    "Install Java8 through the official website (not through terminal) https://www.oracle.com/java/technologies/javase/javase-jdk8-downloads.html"
   ]
  },
  {
   "cell_type": "markdown",
   "id": "5f9caf61",
   "metadata": {},
   "source": [
    "You might need to create a free account and login to download it."
   ]
  },
  {
   "cell_type": "markdown",
   "id": "53398be4",
   "metadata": {},
   "source": [
    "**4. Install Apache-Spark with the following command**"
   ]
  },
  {
   "cell_type": "code",
   "execution_count": null,
   "id": "c80952f7",
   "metadata": {},
   "outputs": [],
   "source": [
    "brew install apache-spark"
   ]
  },
  {
   "cell_type": "markdown",
   "id": "3038beb3",
   "metadata": {},
   "source": [
    "**5. Install pyspark and findspark**"
   ]
  },
  {
   "cell_type": "code",
   "execution_count": null,
   "id": "30bd9bb1",
   "metadata": {},
   "outputs": [],
   "source": [
    "conda install -c conda-forge findspark \n",
    "conda install -c conda-forge/label/gcc7 findspark \n",
    "conda install -c conda-forge pyspark"
   ]
  },
  {
   "cell_type": "markdown",
   "id": "f9f24702",
   "metadata": {},
   "source": [
    "Thanks stackoverflow.com for this guidelines."
   ]
  },
  {
   "cell_type": "markdown",
   "id": "bd827bfe",
   "metadata": {},
   "source": [
    "**Change Log**\n",
    "\n",
    "| No. | Rev. | Description | Change by | Date |\n",
    "| --- | ---- | ----------- | --------- | ---- |\n",
    "| 0 | 0 | First Issue | NguyenS | 02.05.2022 |"
   ]
  }
 ],
 "metadata": {
  "kernelspec": {
   "display_name": "apache-airflow",
   "language": "python",
   "name": "apache-airflow"
  },
  "language_info": {
   "codemirror_mode": {
    "name": "ipython",
    "version": 3
   },
   "file_extension": ".py",
   "mimetype": "text/x-python",
   "name": "python",
   "nbconvert_exporter": "python",
   "pygments_lexer": "ipython3",
   "version": "3.9.12"
  }
 },
 "nbformat": 4,
 "nbformat_minor": 5
}
