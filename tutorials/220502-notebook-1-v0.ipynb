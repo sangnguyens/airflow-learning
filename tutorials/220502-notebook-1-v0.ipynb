{
 "cells": [
  {
   "cell_type": "markdown",
   "id": "83548883",
   "metadata": {},
   "source": [
    "# Basic DataFrame with Apache PySpark\n",
    "In this tutorial, I will show you how to read csv file and working with dataframe by using apache pyspark.\n",
    "<hr>"
   ]
  },
  {
   "cell_type": "markdown",
   "id": "72dfdcbb",
   "metadata": {},
   "source": [
    "## Preparation\n",
    "We need some basic tools for this lab:"
   ]
  },
  {
   "cell_type": "code",
   "execution_count": 1,
   "id": "0b192ac2",
   "metadata": {},
   "outputs": [
    {
     "data": {
      "text/plain": [
       "'3.2.1'"
      ]
     },
     "execution_count": 1,
     "metadata": {},
     "output_type": "execute_result"
    }
   ],
   "source": [
    "# import librariries\n",
    "import pyspark as ps\n",
    "import numpy as np\n",
    "import matplotlib.pyplot as plt\n",
    "\n",
    "# check version of airflow\n",
    "ps.__version__\n"
   ]
  },
  {
   "cell_type": "markdown",
   "id": "f0424d10",
   "metadata": {},
   "source": [
    "**Import pyspark sql to implement datafile**"
   ]
  },
  {
   "cell_type": "code",
   "execution_count": 87,
   "id": "9c02645a",
   "metadata": {},
   "outputs": [],
   "source": [
    "# import pyspark\n",
    "from pyspark.sql import SparkSession\n",
    "\n",
    "# define section\n",
    "sparkss = SparkSession.builder.appName('example1').getOrCreate()\n",
    "#sparkss.conf.set(\"spark.sql.repl.eagerEval.enabled\", True)\n"
   ]
  },
  {
   "cell_type": "markdown",
   "id": "0ae7445a",
   "metadata": {},
   "source": [
    "## Load csv data file"
   ]
  },
  {
   "cell_type": "code",
   "execution_count": 17,
   "id": "5024dc06",
   "metadata": {},
   "outputs": [
    {
     "name": "stdout",
     "output_type": "stream",
     "text": [
      "/Users/nguyens/Documents/airflow-learning/tutorials\n"
     ]
    }
   ],
   "source": [
    "cd .. # check the directory\n"
   ]
  },
  {
   "cell_type": "code",
   "execution_count": 19,
   "id": "89ceae4f",
   "metadata": {},
   "outputs": [
    {
     "name": "stdout",
     "output_type": "stream",
     "text": [
      "220502-notebook-1-v0.ipynb \u001b[34mdata\u001b[m\u001b[m\r\n"
     ]
    }
   ],
   "source": [
    "!ls # list all file and folder\n"
   ]
  },
  {
   "cell_type": "code",
   "execution_count": 10,
   "id": "9d49210f",
   "metadata": {},
   "outputs": [
    {
     "name": "stdout",
     "output_type": "stream",
     "text": [
      "--2022-05-02 11:09:35--  https://archive.ics.uci.edu/ml/machine-learning-databases/adult/adult.data\n",
      "Resolving archive.ics.uci.edu (archive.ics.uci.edu)... 128.195.10.252\n",
      "Connecting to archive.ics.uci.edu (archive.ics.uci.edu)|128.195.10.252|:443... connected.\n",
      "HTTP request sent, awaiting response... 200 OK\n",
      "Length: 3974305 (3.8M) [application/x-httpd-php]\n",
      "Saving to: ‘../data/adult.csv’\n",
      "\n",
      "../data/adult.csv   100%[===================>]   3.79M   329KB/s    in 13s     \n",
      "\n",
      "2022-05-02 11:09:50 (296 KB/s) - ‘../data/adult.csv’ saved [3974305/3974305]\n",
      "\n"
     ]
    }
   ],
   "source": [
    "# download file from web\n",
    "!wget https://archive.ics.uci.edu/ml/machine-learning-databases/adult/adult.data -O ../data/adult.csv\n",
    "\n",
    "# down load and store to 'data/adult.csv'\n"
   ]
  },
  {
   "cell_type": "code",
   "execution_count": 4,
   "id": "c6483d3a",
   "metadata": {},
   "outputs": [
    {
     "name": "stdout",
     "output_type": "stream",
     "text": [
      "\u001b[01;34m..\u001b[0m\r\n",
      "├── \u001b[00mLICENSE\u001b[0m\r\n",
      "├── \u001b[00mREADME.md\u001b[0m\r\n",
      "└── \u001b[01;34mtutorials\u001b[0m\r\n",
      "    ├── \u001b[00m220502-notebook-1-v0.ipynb\u001b[0m\r\n",
      "    └── \u001b[01;34mdata\u001b[0m\r\n",
      "        └── \u001b[00madult.csv\u001b[0m\r\n",
      "\r\n",
      "2 directories, 4 files\r\n"
     ]
    }
   ],
   "source": [
    "# Check the tree of the folder\n",
    "!tree .. -L 3\n"
   ]
  },
  {
   "cell_type": "code",
   "execution_count": 88,
   "id": "591bf37f",
   "metadata": {},
   "outputs": [],
   "source": [
    "import os\n",
    "\n",
    "# path file (assume the csv data file is in data directory)\n",
    "path = os.getcwd() + '/data/' # get current directory\n",
    "file_name = 'adult.csv'\n",
    "columns = [\"Age\", \"worldclass\", \"fnlwgt\", \"education\", \"eduction-num\",\n",
    "          \"marital-status\", \"occupation\", \"relationship\",\n",
    "          \"race\", \"sex\", \"capital-gain\", \"capital-loss\",\n",
    "          \"hours-per-week\", \"native-country\", \"income\"]\n",
    "df = sparkss.read.csv(os.path.join(path, file_name), \n",
    "                      header=None, inferSchema=True)\n"
   ]
  },
  {
   "cell_type": "code",
   "execution_count": 89,
   "id": "85254d73",
   "metadata": {},
   "outputs": [
    {
     "name": "stdout",
     "output_type": "stream",
     "text": [
      "+---+-----------------+--------+----------+----+-------------------+------------------+--------------+------+-------+------+----+----+--------------+------+\n",
      "|_c0|              _c1|     _c2|       _c3| _c4|                _c5|               _c6|           _c7|   _c8|    _c9|  _c10|_c11|_c12|          _c13|  _c14|\n",
      "+---+-----------------+--------+----------+----+-------------------+------------------+--------------+------+-------+------+----+----+--------------+------+\n",
      "| 39|        State-gov| 77516.0| Bachelors|13.0|      Never-married|      Adm-clerical| Not-in-family| White|   Male|2174.0| 0.0|40.0| United-States| <=50K|\n",
      "| 50| Self-emp-not-inc| 83311.0| Bachelors|13.0| Married-civ-spouse|   Exec-managerial|       Husband| White|   Male|   0.0| 0.0|13.0| United-States| <=50K|\n",
      "| 38|          Private|215646.0|   HS-grad| 9.0|           Divorced| Handlers-cleaners| Not-in-family| White|   Male|   0.0| 0.0|40.0| United-States| <=50K|\n",
      "| 53|          Private|234721.0|      11th| 7.0| Married-civ-spouse| Handlers-cleaners|       Husband| Black|   Male|   0.0| 0.0|40.0| United-States| <=50K|\n",
      "| 28|          Private|338409.0| Bachelors|13.0| Married-civ-spouse|    Prof-specialty|          Wife| Black| Female|   0.0| 0.0|40.0|          Cuba| <=50K|\n",
      "+---+-----------------+--------+----------+----+-------------------+------------------+--------------+------+-------+------+----+----+--------------+------+\n",
      "only showing top 5 rows\n",
      "\n"
     ]
    }
   ],
   "source": [
    "df.show(5)"
   ]
  },
  {
   "cell_type": "markdown",
   "id": "6b3a2463",
   "metadata": {},
   "source": [
    "It's nice but the columns name are not expected. Let change them to have the meaningful dataset."
   ]
  },
  {
   "cell_type": "code",
   "execution_count": 90,
   "id": "52182708",
   "metadata": {},
   "outputs": [
    {
     "name": "stdout",
     "output_type": "stream",
     "text": [
      "+---+-----------------+--------+----------+------------+-------------------+------------------+--------------+------+-------+------------+------------+--------------+--------------+------+\n",
      "|Age|       worldclass|  fnlwgt| education|eduction-num|     marital-status|        occupation|  relationship|  race|    sex|capital-gain|capital-loss|hours-per-week|native-country|income|\n",
      "+---+-----------------+--------+----------+------------+-------------------+------------------+--------------+------+-------+------------+------------+--------------+--------------+------+\n",
      "| 39|        State-gov| 77516.0| Bachelors|        13.0|      Never-married|      Adm-clerical| Not-in-family| White|   Male|      2174.0|         0.0|          40.0| United-States| <=50K|\n",
      "| 50| Self-emp-not-inc| 83311.0| Bachelors|        13.0| Married-civ-spouse|   Exec-managerial|       Husband| White|   Male|         0.0|         0.0|          13.0| United-States| <=50K|\n",
      "| 38|          Private|215646.0|   HS-grad|         9.0|           Divorced| Handlers-cleaners| Not-in-family| White|   Male|         0.0|         0.0|          40.0| United-States| <=50K|\n",
      "| 53|          Private|234721.0|      11th|         7.0| Married-civ-spouse| Handlers-cleaners|       Husband| Black|   Male|         0.0|         0.0|          40.0| United-States| <=50K|\n",
      "| 28|          Private|338409.0| Bachelors|        13.0| Married-civ-spouse|    Prof-specialty|          Wife| Black| Female|         0.0|         0.0|          40.0|          Cuba| <=50K|\n",
      "+---+-----------------+--------+----------+------------+-------------------+------------------+--------------+------+-------+------------+------------+--------------+--------------+------+\n",
      "only showing top 5 rows\n",
      "\n"
     ]
    }
   ],
   "source": [
    "# chagne the name of the column\n",
    "df = df.toDF(*columns)\n",
    "df.show(5)\n"
   ]
  },
  {
   "cell_type": "markdown",
   "id": "8d135ad8",
   "metadata": {},
   "source": [
    "Still difficult to see, right? Select method can help to select just few columns for better view."
   ]
  },
  {
   "cell_type": "code",
   "execution_count": 91,
   "id": "321d67dd",
   "metadata": {},
   "outputs": [
    {
     "name": "stdout",
     "output_type": "stream",
     "text": [
      "+---+-----------------+--------+----------+\n",
      "|Age|       worldclass|  fnlwgt| education|\n",
      "+---+-----------------+--------+----------+\n",
      "| 39|        State-gov| 77516.0| Bachelors|\n",
      "| 50| Self-emp-not-inc| 83311.0| Bachelors|\n",
      "| 38|          Private|215646.0|   HS-grad|\n",
      "| 53|          Private|234721.0|      11th|\n",
      "| 28|          Private|338409.0| Bachelors|\n",
      "+---+-----------------+--------+----------+\n",
      "only showing top 5 rows\n",
      "\n"
     ]
    }
   ],
   "source": [
    "df.select(\"Age\", \"worldclass\", \"fnlwgt\", \"education\").show(5)"
   ]
  },
  {
   "cell_type": "markdown",
   "id": "0c2944b0",
   "metadata": {},
   "source": [
    "Nice! show as expected!\n",
    "\n",
    "But we can customize view to see something like pandas? Let's take a trial"
   ]
  },
  {
   "cell_type": "code",
   "execution_count": 72,
   "id": "415eabb5",
   "metadata": {},
   "outputs": [
    {
     "name": "stdout",
     "output_type": "stream",
     "text": [
      "-RECORD 0-----------------------------\n",
      " Age            | 39                  \n",
      " worldclass     |  State-gov          \n",
      " fnlwgt         | 77516.0             \n",
      " education      |  Bachelors          \n",
      " eduction-num   | 13.0                \n",
      " marital-status |  Never-married      \n",
      " occupation     |  Adm-clerical       \n",
      " relationship   |  Not-in-family      \n",
      " race           |  White              \n",
      " sex            |  Male               \n",
      " capital-gain   | 2174.0              \n",
      " capital-loss   | 0.0                 \n",
      " hours-per-week | 40.0                \n",
      " native-country |  United-States      \n",
      " income         |  <=50K              \n",
      "-RECORD 1-----------------------------\n",
      " Age            | 50                  \n",
      " worldclass     |  Self-emp-not-inc   \n",
      " fnlwgt         | 83311.0             \n",
      " education      |  Bachelors          \n",
      " eduction-num   | 13.0                \n",
      " marital-status |  Married-civ-spouse \n",
      " occupation     |  Exec-managerial    \n",
      " relationship   |  Husband            \n",
      " race           |  White              \n",
      " sex            |  Male               \n",
      " capital-gain   | 0.0                 \n",
      " capital-loss   | 0.0                 \n",
      " hours-per-week | 13.0                \n",
      " native-country |  United-States      \n",
      " income         |  <=50K              \n",
      "-RECORD 2-----------------------------\n",
      " Age            | 38                  \n",
      " worldclass     |  Private            \n",
      " fnlwgt         | 215646.0            \n",
      " education      |  HS-grad            \n",
      " eduction-num   | 9.0                 \n",
      " marital-status |  Divorced           \n",
      " occupation     |  Handlers-cleaners  \n",
      " relationship   |  Not-in-family      \n",
      " race           |  White              \n",
      " sex            |  Male               \n",
      " capital-gain   | 0.0                 \n",
      " capital-loss   | 0.0                 \n",
      " hours-per-week | 40.0                \n",
      " native-country |  United-States      \n",
      " income         |  <=50K              \n",
      "-RECORD 3-----------------------------\n",
      " Age            | 53                  \n",
      " worldclass     |  Private            \n",
      " fnlwgt         | 234721.0            \n",
      " education      |  11th               \n",
      " eduction-num   | 7.0                 \n",
      " marital-status |  Married-civ-spouse \n",
      " occupation     |  Handlers-cleaners  \n",
      " relationship   |  Husband            \n",
      " race           |  Black              \n",
      " sex            |  Male               \n",
      " capital-gain   | 0.0                 \n",
      " capital-loss   | 0.0                 \n",
      " hours-per-week | 40.0                \n",
      " native-country |  United-States      \n",
      " income         |  <=50K              \n",
      "-RECORD 4-----------------------------\n",
      " Age            | 28                  \n",
      " worldclass     |  Private            \n",
      " fnlwgt         | 338409.0            \n",
      " education      |  Bachelors          \n",
      " eduction-num   | 13.0                \n",
      " marital-status |  Married-civ-spouse \n",
      " occupation     |  Prof-specialty     \n",
      " relationship   |  Wife               \n",
      " race           |  Black              \n",
      " sex            |  Female             \n",
      " capital-gain   | 0.0                 \n",
      " capital-loss   | 0.0                 \n",
      " hours-per-week | 40.0                \n",
      " native-country |  Cuba               \n",
      " income         |  <=50K              \n",
      "only showing top 5 rows\n",
      "\n"
     ]
    }
   ],
   "source": [
    "# set option for 'SparkSession'\n",
    "df.show(n=5, truncate=False, vertical=True)"
   ]
  },
  {
   "cell_type": "code",
   "execution_count": 86,
   "id": "7de601d2",
   "metadata": {},
   "outputs": [
    {
     "data": {
      "text/html": [
       "<div>\n",
       "<style scoped>\n",
       "    .dataframe tbody tr th:only-of-type {\n",
       "        vertical-align: middle;\n",
       "    }\n",
       "\n",
       "    .dataframe tbody tr th {\n",
       "        vertical-align: top;\n",
       "    }\n",
       "\n",
       "    .dataframe thead th {\n",
       "        text-align: right;\n",
       "    }\n",
       "</style>\n",
       "<table border=\"1\" class=\"dataframe\">\n",
       "  <thead>\n",
       "    <tr style=\"text-align: right;\">\n",
       "      <th></th>\n",
       "      <th>Age</th>\n",
       "      <th>worldclass</th>\n",
       "      <th>fnlwgt</th>\n",
       "      <th>education</th>\n",
       "      <th>eduction-num</th>\n",
       "      <th>marital-status</th>\n",
       "      <th>occupation</th>\n",
       "      <th>relationship</th>\n",
       "      <th>race</th>\n",
       "      <th>sex</th>\n",
       "      <th>capital-gain</th>\n",
       "      <th>capital-loss</th>\n",
       "      <th>hours-per-week</th>\n",
       "      <th>native-country</th>\n",
       "      <th>income</th>\n",
       "    </tr>\n",
       "  </thead>\n",
       "  <tbody>\n",
       "    <tr>\n",
       "      <th>0</th>\n",
       "      <td>39</td>\n",
       "      <td>State-gov</td>\n",
       "      <td>77516.0</td>\n",
       "      <td>Bachelors</td>\n",
       "      <td>13.0</td>\n",
       "      <td>Never-married</td>\n",
       "      <td>Adm-clerical</td>\n",
       "      <td>Not-in-family</td>\n",
       "      <td>White</td>\n",
       "      <td>Male</td>\n",
       "      <td>2174.0</td>\n",
       "      <td>0.0</td>\n",
       "      <td>40.0</td>\n",
       "      <td>United-States</td>\n",
       "      <td>&lt;=50K</td>\n",
       "    </tr>\n",
       "    <tr>\n",
       "      <th>1</th>\n",
       "      <td>50</td>\n",
       "      <td>Self-emp-not-inc</td>\n",
       "      <td>83311.0</td>\n",
       "      <td>Bachelors</td>\n",
       "      <td>13.0</td>\n",
       "      <td>Married-civ-spouse</td>\n",
       "      <td>Exec-managerial</td>\n",
       "      <td>Husband</td>\n",
       "      <td>White</td>\n",
       "      <td>Male</td>\n",
       "      <td>0.0</td>\n",
       "      <td>0.0</td>\n",
       "      <td>13.0</td>\n",
       "      <td>United-States</td>\n",
       "      <td>&lt;=50K</td>\n",
       "    </tr>\n",
       "    <tr>\n",
       "      <th>2</th>\n",
       "      <td>38</td>\n",
       "      <td>Private</td>\n",
       "      <td>215646.0</td>\n",
       "      <td>HS-grad</td>\n",
       "      <td>9.0</td>\n",
       "      <td>Divorced</td>\n",
       "      <td>Handlers-cleaners</td>\n",
       "      <td>Not-in-family</td>\n",
       "      <td>White</td>\n",
       "      <td>Male</td>\n",
       "      <td>0.0</td>\n",
       "      <td>0.0</td>\n",
       "      <td>40.0</td>\n",
       "      <td>United-States</td>\n",
       "      <td>&lt;=50K</td>\n",
       "    </tr>\n",
       "    <tr>\n",
       "      <th>3</th>\n",
       "      <td>53</td>\n",
       "      <td>Private</td>\n",
       "      <td>234721.0</td>\n",
       "      <td>11th</td>\n",
       "      <td>7.0</td>\n",
       "      <td>Married-civ-spouse</td>\n",
       "      <td>Handlers-cleaners</td>\n",
       "      <td>Husband</td>\n",
       "      <td>Black</td>\n",
       "      <td>Male</td>\n",
       "      <td>0.0</td>\n",
       "      <td>0.0</td>\n",
       "      <td>40.0</td>\n",
       "      <td>United-States</td>\n",
       "      <td>&lt;=50K</td>\n",
       "    </tr>\n",
       "    <tr>\n",
       "      <th>4</th>\n",
       "      <td>28</td>\n",
       "      <td>Private</td>\n",
       "      <td>338409.0</td>\n",
       "      <td>Bachelors</td>\n",
       "      <td>13.0</td>\n",
       "      <td>Married-civ-spouse</td>\n",
       "      <td>Prof-specialty</td>\n",
       "      <td>Wife</td>\n",
       "      <td>Black</td>\n",
       "      <td>Female</td>\n",
       "      <td>0.0</td>\n",
       "      <td>0.0</td>\n",
       "      <td>40.0</td>\n",
       "      <td>Cuba</td>\n",
       "      <td>&lt;=50K</td>\n",
       "    </tr>\n",
       "  </tbody>\n",
       "</table>\n",
       "</div>"
      ],
      "text/plain": [
       "   Age         worldclass    fnlwgt   education  eduction-num  \\\n",
       "0   39          State-gov   77516.0   Bachelors          13.0   \n",
       "1   50   Self-emp-not-inc   83311.0   Bachelors          13.0   \n",
       "2   38            Private  215646.0     HS-grad           9.0   \n",
       "3   53            Private  234721.0        11th           7.0   \n",
       "4   28            Private  338409.0   Bachelors          13.0   \n",
       "\n",
       "        marital-status          occupation    relationship    race      sex  \\\n",
       "0        Never-married        Adm-clerical   Not-in-family   White     Male   \n",
       "1   Married-civ-spouse     Exec-managerial         Husband   White     Male   \n",
       "2             Divorced   Handlers-cleaners   Not-in-family   White     Male   \n",
       "3   Married-civ-spouse   Handlers-cleaners         Husband   Black     Male   \n",
       "4   Married-civ-spouse      Prof-specialty            Wife   Black   Female   \n",
       "\n",
       "   capital-gain  capital-loss  hours-per-week  native-country  income  \n",
       "0        2174.0           0.0            40.0   United-States   <=50K  \n",
       "1           0.0           0.0            13.0   United-States   <=50K  \n",
       "2           0.0           0.0            40.0   United-States   <=50K  \n",
       "3           0.0           0.0            40.0   United-States   <=50K  \n",
       "4           0.0           0.0            40.0            Cuba   <=50K  "
      ]
     },
     "execution_count": 86,
     "metadata": {},
     "output_type": "execute_result"
    }
   ],
   "source": [
    "# Not really what i want to show. Let's try to convert to pandas\n",
    "df.limit(num=5).toPandas().head()\n",
    "\n",
    "# here i passed .limit() to minimize the memory use for this task. because we only want to see the dataframe in \n",
    "# right manner."
   ]
  },
  {
   "cell_type": "markdown",
   "id": "415f85a8",
   "metadata": {},
   "source": [
    "**Change Log**\n"
   ]
  },
  {
   "cell_type": "markdown",
   "id": "dc0fabdb",
   "metadata": {},
   "source": [
    "| No. | Rev. | Description | Change by | Date |\n",
    "| --- | ---- | ----------- | --------- | ---- |\n",
    "| 0 | 0 | First Issue | NguyenS | 02.05.2022 |"
   ]
  },
  {
   "cell_type": "code",
   "execution_count": null,
   "id": "c3b7be2f",
   "metadata": {},
   "outputs": [],
   "source": []
  }
 ],
 "metadata": {
  "kernelspec": {
   "display_name": "apache-airflow",
   "language": "python",
   "name": "apache-airflow"
  },
  "language_info": {
   "codemirror_mode": {
    "name": "ipython",
    "version": 3
   },
   "file_extension": ".py",
   "mimetype": "text/x-python",
   "name": "python",
   "nbconvert_exporter": "python",
   "pygments_lexer": "ipython3",
   "version": "3.9.12"
  }
 },
 "nbformat": 4,
 "nbformat_minor": 5
}
